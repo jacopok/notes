{
 "metadata": {
  "language_info": {
   "codemirror_mode": {
    "name": "ipython",
    "version": 3
   },
   "file_extension": ".py",
   "mimetype": "text/x-python",
   "name": "python",
   "nbconvert_exporter": "python",
   "pygments_lexer": "ipython3",
   "version": "3.8.6-final"
  },
  "orig_nbformat": 2,
  "kernelspec": {
   "name": "cadabra",
   "display_name": "Cadabra"
  }
 },
 "nbformat": 4,
 "nbformat_minor": 2,
 "cells": [
  {
   "cell_type": "code",
   "execution_count": null,
   "metadata": {},
   "outputs": [],
   "source": [
    "{r,t,\\phi,\\theta}::Coordinate;\n",
    "{\\mu,\\nu,\\sigma,\\lambda,\\kappa,\\chi,\\gamma,\\xi}::Indices(values={t,r,\\phi,\\theta}, position=fixed);\n",
    "\\partial{#}::PartialDerivative;\n",
    "g_{\\mu\\nu}::Metric.\n",
    "g^{\\mu\\nu}::InverseMetric.\n",
    "T_{\\mu\\nu}::Symmetric.\n",
    "{A, B, \\rho, P}::Depends(r)"
   ]
  },
  {
   "cell_type": "code",
   "execution_count": null,
   "metadata": {},
   "outputs": [],
   "source": []
  }
 ]
}