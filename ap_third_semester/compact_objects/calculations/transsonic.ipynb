{
 "metadata": {
  "language_info": {
   "codemirror_mode": {
    "name": "ipython",
    "version": 3
   },
   "file_extension": ".py",
   "mimetype": "text/x-python",
   "name": "python",
   "nbconvert_exporter": "python",
   "pygments_lexer": "ipython3",
   "version": "3.8.6-final"
  },
  "orig_nbformat": 2,
  "kernelspec": {
   "name": "python3",
   "display_name": "Python 3.8.6 64-bit ('python38env': conda)",
   "metadata": {
    "interpreter": {
     "hash": "d55324eb18c54775625b70d0acf23726c6b877bc32c1284a5dab775673b6545a"
    }
   }
  }
 },
 "nbformat": 4,
 "nbformat_minor": 2,
 "cells": [
  {
   "cell_type": "code",
   "execution_count": 7,
   "metadata": {},
   "outputs": [],
   "source": [
    "import numpy as np\n",
    "import matplotlib.pyplot as plt\n",
    "import astropy.units as u\n",
    "from astropy.constants import codata2018 as ac\n",
    "from astropy.visualization import quantity_support\n",
    "from ipywidgets import interact"
   ]
  },
  {
   "cell_type": "code",
   "execution_count": 30,
   "metadata": {},
   "outputs": [],
   "source": [
    "rho_inf = 1*u.g / u.m**3\n",
    "a_inf = 2000 * u.m / u.s\n",
    "GM = aa.GM_sun\n",
    "Gamma = 4/3\n",
    "\n",
    "# not working right now"
   ]
  },
  {
   "cell_type": "code",
   "execution_count": 31,
   "metadata": {},
   "outputs": [],
   "source": [
    "def u_ellipse(a, r, Mdot, rho_inf=rho_inf, a_inf=a_inf):\n",
    "    rhs = GM / r + (a_inf**2 - a**2)/(Gamma-1) \n",
    "    return(np.sqrt(2 * rhs))\n",
    "\n",
    "def u_hyperbola(a, r, Mdot, rho_inf=rho_inf, a_inf=a_inf):\n",
    "    rhs = Mdot * (a_inf / a)**(2/ (Gamma -1))/ (4 * np.pi * r**2 * rho_inf)  \n",
    "    return(rhs)"
   ]
  },
  {
   "cell_type": "code",
   "execution_count": 12,
   "metadata": {},
   "outputs": [
    {
     "output_type": "execute_result",
     "data": {
      "text/plain": [
       "<<class 'astropy.constants.iau2015.IAU2015'> name='Nominal solar mass parameter' value=1.3271244e+20 uncertainty=0.0 unit='m3 / s2' reference='IAU 2015 Resolution B 3'>"
      ],
      "text/latex": "$1.3271244 \\times 10^{20} \\; \\mathrm{\\frac{m^{3}}{s^{2}}}$"
     },
     "metadata": {},
     "execution_count": 12
    }
   ],
   "source": []
  },
  {
   "cell_type": "code",
   "execution_count": 44,
   "metadata": {},
   "outputs": [],
   "source": [
    "ass = np.linspace(1e1 * u.m/u.s, 1e8*u.m/u.s)\n",
    "def plot(r, Mdot):\n",
    "    us_e = u_ellipse(ass, r*u.m, Mdot*u.kg/u.s)\n",
    "    us_h = u_hyperbola(ass, r*u.m, Mdot*u.kg/u.s)\n",
    "    with(quantity_support()):\n",
    "        plt.loglog(ass, us_e)\n",
    "        plt.loglog(ass, us_h)"
   ]
  },
  {
   "cell_type": "code",
   "execution_count": 45,
   "metadata": {},
   "outputs": [
    {
     "output_type": "display_data",
     "data": {
      "text/plain": "interactive(children=(FloatSlider(value=500000.0, description='r', max=1000000.0, step=10000.0), FloatSlider(v…",
      "application/vnd.jupyter.widget-view+json": {
       "version_major": 2,
       "version_minor": 0,
       "model_id": "0e14a0cef30e4895ae21de4e3f6e1130"
      }
     },
     "metadata": {}
    },
    {
     "output_type": "execute_result",
     "data": {
      "text/plain": [
       "<function __main__.plot(r, Mdot)>"
      ]
     },
     "metadata": {},
     "execution_count": 45
    }
   ],
   "source": [
    "interact(plot, r=(0, 1e6, 1e4), Mdot=(1e10, 1e15, 1e13))"
   ]
  },
  {
   "cell_type": "code",
   "execution_count": null,
   "metadata": {},
   "outputs": [],
   "source": []
  }
 ]
}