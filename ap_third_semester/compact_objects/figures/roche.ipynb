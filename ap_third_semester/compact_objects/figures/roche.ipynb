{
 "metadata": {
  "language_info": {
   "codemirror_mode": {
    "name": "ipython",
    "version": 3
   },
   "file_extension": ".py",
   "mimetype": "text/x-python",
   "name": "python",
   "nbconvert_exporter": "python",
   "pygments_lexer": "ipython3",
   "version": "3.8.6"
  },
  "orig_nbformat": 2,
  "kernelspec": {
   "name": "python3",
   "display_name": "Python 3.8.6 64-bit ('python38env': conda)",
   "metadata": {
    "interpreter": {
     "hash": "d55324eb18c54775625b70d0acf23726c6b877bc32c1284a5dab775673b6545a"
    }
   }
  }
 },
 "nbformat": 4,
 "nbformat_minor": 2,
 "cells": [
  {
   "cell_type": "code",
   "execution_count": 1,
   "metadata": {},
   "outputs": [],
   "source": [
    "import numpy as np \n",
    "import matplotlib.pyplot as plt\n",
    "from mpl_toolkits.mplot3d import axes3d\n",
    "from ipywidgets import interact_manual\n",
    "import matplotlib.cm as cm"
   ]
  },
  {
   "cell_type": "code",
   "execution_count": 2,
   "metadata": {},
   "outputs": [],
   "source": [
    "def phi_roche(x, y, z, q):\n",
    "    first_term = 2/(1 + q) / np.sqrt(x**2 + y**2 + z**2)\n",
    "    second_term = 2 * q /(1 + q) / np.sqrt((x-1)**2 + y**2 + z**2)\n",
    "    third_term = (x - q / (1+q))**2 + y**2\n",
    "\n",
    "    return -(first_term + second_term + third_term)"
   ]
  },
  {
   "cell_type": "code",
   "execution_count": 3,
   "metadata": {},
   "outputs": [],
   "source": [
    "from IPython.display import display, clear_output\n",
    "\n",
    "N = 100\n",
    "xy_scale = 1.5\n",
    "x = np.linspace(-xy_scale, xy_scale +1 , num=N)\n",
    "y = np.linspace(-xy_scale, xy_scale, num=N)\n",
    "X, Y = np.meshgrid(x, y)\n",
    "\n",
    "def plot(z, q):\n",
    "    fig = plt.figure()\n",
    "    ax = fig.add_subplot(111, projection='3d')\n",
    "\n",
    "    Z = phi_roche(X, Y, z, q)\n",
    "    grad = np.gradient(Z)\n",
    "    abs_grad = grad[0]**2 + grad[1]**2\n",
    "    zero_grad_indices = np.argwhere(np.isclose(abs_grad, 0, atol=1e-5))\n",
    "    \n",
    "    for pair in zero_grad_indices:\n",
    "        i, j = pair\n",
    "        ax.scatter(X[i, j], Y[i, j], Z[i, j], c='black')\n",
    "\n",
    "    ax.plot_surface(X, Y, Z, cmap=cm.coolwarm,\n",
    "                       linewidth=0)\n",
    "    clear_output(wait=True)\n",
    "    plt.tight_layout()\n",
    "\n",
    "    # plt.show()"
   ]
  },
  {
   "cell_type": "code",
   "execution_count": 4,
   "metadata": {},
   "outputs": [
    {
     "output_type": "display_data",
     "data": {
      "text/plain": "interactive(children=(FloatSlider(value=0.37, description='z', max=0.75, step=0.01), FloatSlider(value=0.52, d…",
      "application/vnd.jupyter.widget-view+json": {
       "version_major": 2,
       "version_minor": 0,
       "model_id": "2d83e4818820431588b2ff7b62bd244b"
      }
     },
     "metadata": {}
    },
    {
     "output_type": "execute_result",
     "data": {
      "text/plain": [
       "<function __main__.plot(z, q)>"
      ]
     },
     "metadata": {},
     "execution_count": 4
    }
   ],
   "source": [
    "%matplotlib qt\n",
    "interact_manual(plot, q = (0.05, 1, .01), z = (0, xy_scale/2, .01))"
   ]
  },
  {
   "cell_type": "code",
   "execution_count": 118,
   "metadata": {},
   "outputs": [
    {
     "output_type": "execute_result",
     "data": {
      "text/plain": [
       "-1.5"
      ]
     },
     "metadata": {},
     "execution_count": 118
    }
   ],
   "source": []
  },
  {
   "cell_type": "code",
   "execution_count": null,
   "metadata": {},
   "outputs": [],
   "source": []
  }
 ]
}