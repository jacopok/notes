{
 "metadata": {
  "language_info": {
   "codemirror_mode": {
    "name": "ipython",
    "version": 3
   },
   "file_extension": ".py",
   "mimetype": "text/x-python",
   "name": "python",
   "nbconvert_exporter": "python",
   "pygments_lexer": "ipython3",
   "version": "3.8.6-final"
  },
  "orig_nbformat": 2,
  "kernelspec": {
   "name": "python3",
   "display_name": "Python 3",
   "language": "python"
  }
 },
 "nbformat": 4,
 "nbformat_minor": 2,
 "cells": [
  {
   "cell_type": "code",
   "execution_count": 1,
   "metadata": {},
   "outputs": [],
   "source": [
    "import numpy as np\n",
    "import matplotlib.pyplot as plt\n",
    "from ipywidgets import interact\n",
    "from scipy.interpolate import UnivariateSpline"
   ]
  },
  {
   "cell_type": "code",
   "execution_count": 2,
   "metadata": {},
   "outputs": [
    {
     "output_type": "display_data",
     "data": {
      "text/plain": "interactive(children=(FloatSlider(value=1.0, description='T', max=2.0, step=0.01), Output()), _dom_classes=('w…",
      "application/vnd.jupyter.widget-view+json": {
       "version_major": 2,
       "version_minor": 0,
       "model_id": "4194772be9d3440a97fc28e465caa3c8"
      }
     },
     "metadata": {}
    },
    {
     "output_type": "execute_result",
     "data": {
      "text/plain": [
       "<function __main__.plot(T)>"
      ]
     },
     "metadata": {},
     "execution_count": 2
    }
   ],
   "source": [
    "min_phi = 2\n",
    "phi = np.linspace(-min_phi, min_phi, num=1000)\n",
    "\n",
    "sigma_square = 1\n",
    "alpha = 2\n",
    "gamma = -2\n",
    "beta = .1\n",
    "lam = 4\n",
    "\n",
    "def potential(phi, T):\n",
    "    t1 = lam / 4 * (phi **2 - sigma_square)**2\n",
    "    t2 = alpha * (phi * T )**2\n",
    "    t3 = gamma * np.abs(phi)**3 * T\n",
    "    t4 = beta * T**4\n",
    "    return(t1 + t2 + t3 + t4)\n",
    "\n",
    "def plot(T):\n",
    "    fig = plt.figure(figsize=(10, 7))\n",
    "    V = potential(phi, T)\n",
    "    V_spl = UnivariateSpline(phi, V, s=0, k=3)\n",
    "    V_second_0 = V_spl.derivative(n=2)(0)\n",
    "    V_spl_2 = UnivariateSpline(phi, V, s=0, k=4)\n",
    "    stationary_points = V_spl_2.derivative(n=1).roots()\n",
    "    n_sp = len(stationary_points)\n",
    "    V_stat = potential(stationary_points, T)\n",
    "    plt.scatter(stationary_points, V_stat)\n",
    "    if(n_sp==5):\n",
    "        s = f', $\\Delta V = $ {V_stat[1]-V_stat[2]:.2f}, {V_stat[1]-V_stat[0]:.2f}'\n",
    "    else:\n",
    "        s=''\n",
    "    \n",
    "    plt.plot(phi, V)\n",
    "    plt.ylim(-1.1, 4)\n",
    "    plt.xlim(-2, 2)\n",
    "    # plt.xscale('symlog', linthreshx=1)\n",
    "    # plt.yscale('symlog', linthreshy=1)\n",
    "    plt.title(f\"V'' (0) = {V_second_0:.1f}, {n_sp} stationary points\" + s)\n",
    "\n",
    "interact(plot, T =(0, 2, .01))"
   ]
  },
  {
   "cell_type": "code",
   "execution_count": null,
   "metadata": {},
   "outputs": [],
   "source": []
  }
 ]
}