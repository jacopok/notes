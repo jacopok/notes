{
 "metadata": {
  "language_info": {
   "codemirror_mode": {
    "name": "ipython",
    "version": 3
   },
   "file_extension": ".py",
   "mimetype": "text/x-python",
   "name": "python",
   "nbconvert_exporter": "python",
   "pygments_lexer": "ipython3",
   "version": "3.8.6-final"
  },
  "orig_nbformat": 2,
  "kernelspec": {
   "name": "python3",
   "display_name": "Python 3",
   "language": "python"
  }
 },
 "nbformat": 4,
 "nbformat_minor": 2,
 "cells": [
  {
   "cell_type": "code",
   "execution_count": 1,
   "metadata": {},
   "outputs": [],
   "source": [
    "import numpy as np\n",
    "import matplotlib.pyplot as plt\n",
    "from ipywidgets import interact"
   ]
  },
  {
   "cell_type": "code",
   "execution_count": 27,
   "metadata": {},
   "outputs": [],
   "source": [
    "M = 1\n",
    "m = 1\n",
    "lam = 1\n",
    "lam_p = 1\n",
    "\n",
    "phi = np.linspace(-5, 5, num=200)\n",
    "psi = np.linspace(-5, 5, num=200)\n",
    "\n",
    "PHI, PSI = np.meshgrid(phi, psi)\n",
    "\n",
    "def plot(lam, lam_p):\n",
    "    V = (m * PHI)**2 / 2 + lam * (PSI**2 - M**2)**2 / 4 + lam_p * PHI**2 * PSI**2 / 2\n",
    "    plt.figure()\n",
    "    ax = plt.gca(projection='3d')\n",
    "    ax.plot_surface(PHI, PSI, V**(1/4), alpha=.5)"
   ]
  },
  {
   "cell_type": "code",
   "execution_count": 28,
   "metadata": {},
   "outputs": [],
   "source": [
    "# interact(plot, lam=(0, 1, .001), lam_p=(0, 1, .001))\n",
    "%matplotlib qt\n",
    "plot(.42, .42)"
   ]
  },
  {
   "cell_type": "code",
   "execution_count": null,
   "metadata": {},
   "outputs": [],
   "source": []
  }
 ]
}